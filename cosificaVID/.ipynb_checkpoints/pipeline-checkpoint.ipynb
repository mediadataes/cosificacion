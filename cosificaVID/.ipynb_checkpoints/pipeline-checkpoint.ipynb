{
 "cells": [
  {
   "cell_type": "markdown",
   "metadata": {},
   "source": [
    "# Video Pipeline"
   ]
  },
  {
   "cell_type": "markdown",
   "metadata": {},
   "source": [
    "1. Download video(s)\n",
    "2. Metadata collection\n",
    "3. Frame/Clip decomposition\n",
    "4. NudeNet"
   ]
  },
  {
   "cell_type": "markdown",
   "metadata": {},
   "source": [
    "## Dependencies"
   ]
  },
  {
   "cell_type": "code",
   "execution_count": 11,
   "metadata": {},
   "outputs": [
    {
     "name": "stdout",
     "output_type": "stream",
     "text": [
      "Requirement already satisfied: youtube_dl in /usr/local/lib/python3.7/site-packages (2019.11.22)\n",
      "Requirement already satisfied: beautifulsoup4 in /usr/local/lib/python3.7/site-packages (4.8.1)\n",
      "Requirement already satisfied: soupsieve>=1.2 in /usr/local/lib/python3.7/site-packages (from beautifulsoup4) (1.9.5)\n",
      "Requirement already satisfied: requests in /usr/local/lib/python3.7/site-packages (2.22.0)\n",
      "Requirement already satisfied: urllib3!=1.25.0,!=1.25.1,<1.26,>=1.21.1 in /usr/local/lib/python3.7/site-packages (from requests) (1.25.7)\n",
      "Requirement already satisfied: chardet<3.1.0,>=3.0.2 in /usr/local/lib/python3.7/site-packages (from requests) (3.0.4)\n",
      "Requirement already satisfied: idna<2.9,>=2.5 in /usr/local/lib/python3.7/site-packages (from requests) (2.8)\n",
      "Requirement already satisfied: certifi>=2017.4.17 in /usr/local/lib/python3.7/site-packages (from requests) (2019.9.11)\n",
      "Requirement already satisfied: numpy in /usr/local/lib/python3.7/site-packages (1.17.4)\n",
      "Requirement already satisfied: nudenet in /usr/local/lib/python3.7/site-packages (1.0.5)\n",
      "Requirement already satisfied: keras==2.2.4 in /usr/local/lib/python3.7/site-packages (from nudenet) (2.2.4)\n",
      "Requirement already satisfied: opencv-python==4.0.0.21 in /usr/local/lib/python3.7/site-packages (from nudenet) (4.0.0.21)\n",
      "Requirement already satisfied: keras-retinanet==0.5.0 in /usr/local/lib/python3.7/site-packages (from nudenet) (0.5.0)\n",
      "Requirement already satisfied: keras-preprocessing>=1.0.5 in /usr/local/lib/python3.7/site-packages (from keras==2.2.4->nudenet) (1.1.0)\n",
      "Requirement already satisfied: pyyaml in /usr/local/lib/python3.7/site-packages (from keras==2.2.4->nudenet) (5.1.2)\n",
      "Requirement already satisfied: keras-applications>=1.0.6 in /usr/local/lib/python3.7/site-packages (from keras==2.2.4->nudenet) (1.0.8)\n",
      "Requirement already satisfied: numpy>=1.9.1 in /usr/local/lib/python3.7/site-packages (from keras==2.2.4->nudenet) (1.17.4)\n",
      "Requirement already satisfied: scipy>=0.14 in /usr/local/lib/python3.7/site-packages (from keras==2.2.4->nudenet) (1.3.3)\n",
      "Requirement already satisfied: h5py in /usr/local/lib/python3.7/site-packages (from keras==2.2.4->nudenet) (2.10.0)\n",
      "Requirement already satisfied: six>=1.9.0 in /usr/local/lib/python3.7/site-packages (from keras==2.2.4->nudenet) (1.13.0)\n",
      "Requirement already satisfied: Pillow in /usr/local/lib/python3.7/site-packages (from keras-retinanet==0.5.0->nudenet) (6.2.1)\n",
      "Requirement already satisfied: progressbar2 in /usr/local/lib/python3.7/site-packages (from keras-retinanet==0.5.0->nudenet) (3.47.0)\n",
      "Requirement already satisfied: keras-resnet in /usr/local/lib/python3.7/site-packages (from keras-retinanet==0.5.0->nudenet) (0.2.0)\n",
      "Requirement already satisfied: cython in /usr/local/lib/python3.7/site-packages (from keras-retinanet==0.5.0->nudenet) (0.29.14)\n",
      "Requirement already satisfied: python-utils>=2.3.0 in /usr/local/lib/python3.7/site-packages (from progressbar2->keras-retinanet==0.5.0->nudenet) (2.3.0)\n",
      "Requirement already satisfied: tensorflow in /usr/local/lib/python3.7/site-packages (2.0.0)\n",
      "Requirement already satisfied: numpy<2.0,>=1.16.0 in /usr/local/lib/python3.7/site-packages (from tensorflow) (1.17.4)\n",
      "Requirement already satisfied: termcolor>=1.1.0 in /usr/local/lib/python3.7/site-packages (from tensorflow) (1.1.0)\n",
      "Requirement already satisfied: protobuf>=3.6.1 in /usr/local/lib/python3.7/site-packages (from tensorflow) (3.11.0)\n",
      "Requirement already satisfied: opt-einsum>=2.3.2 in /usr/local/lib/python3.7/site-packages (from tensorflow) (3.1.0)\n",
      "Requirement already satisfied: astor>=0.6.0 in /usr/local/lib/python3.7/site-packages (from tensorflow) (0.8.0)\n",
      "Requirement already satisfied: google-pasta>=0.1.6 in /usr/local/lib/python3.7/site-packages (from tensorflow) (0.1.8)\n",
      "Requirement already satisfied: wheel>=0.26 in /usr/local/lib/python3.7/site-packages (from tensorflow) (0.33.6)\n",
      "Requirement already satisfied: gast==0.2.2 in /usr/local/lib/python3.7/site-packages (from tensorflow) (0.2.2)\n",
      "Requirement already satisfied: tensorboard<2.1.0,>=2.0.0 in /usr/local/lib/python3.7/site-packages (from tensorflow) (2.0.2)\n",
      "Requirement already satisfied: wrapt>=1.11.1 in /usr/local/lib/python3.7/site-packages (from tensorflow) (1.11.2)\n",
      "Requirement already satisfied: keras-applications>=1.0.8 in /usr/local/lib/python3.7/site-packages (from tensorflow) (1.0.8)\n",
      "Requirement already satisfied: absl-py>=0.7.0 in /usr/local/lib/python3.7/site-packages (from tensorflow) (0.8.1)\n",
      "Requirement already satisfied: six>=1.10.0 in /usr/local/lib/python3.7/site-packages (from tensorflow) (1.13.0)\n",
      "Requirement already satisfied: tensorflow-estimator<2.1.0,>=2.0.0 in /usr/local/lib/python3.7/site-packages (from tensorflow) (2.0.1)\n",
      "Requirement already satisfied: keras-preprocessing>=1.0.5 in /usr/local/lib/python3.7/site-packages (from tensorflow) (1.1.0)\n",
      "Requirement already satisfied: grpcio>=1.8.6 in /usr/local/lib/python3.7/site-packages (from tensorflow) (1.25.0)\n",
      "Requirement already satisfied: setuptools in /usr/local/lib/python3.7/site-packages (from protobuf>=3.6.1->tensorflow) (41.6.0)\n",
      "Requirement already satisfied: werkzeug>=0.11.15 in /usr/local/lib/python3.7/site-packages (from tensorboard<2.1.0,>=2.0.0->tensorflow) (0.16.0)\n",
      "Requirement already satisfied: markdown>=2.6.8 in /usr/local/lib/python3.7/site-packages (from tensorboard<2.1.0,>=2.0.0->tensorflow) (3.1.1)\n",
      "Requirement already satisfied: google-auth<2,>=1.6.3 in /usr/local/lib/python3.7/site-packages (from tensorboard<2.1.0,>=2.0.0->tensorflow) (1.7.1)\n",
      "Requirement already satisfied: google-auth-oauthlib<0.5,>=0.4.1 in /usr/local/lib/python3.7/site-packages (from tensorboard<2.1.0,>=2.0.0->tensorflow) (0.4.1)\n",
      "Requirement already satisfied: requests<3,>=2.21.0 in /usr/local/lib/python3.7/site-packages (from tensorboard<2.1.0,>=2.0.0->tensorflow) (2.22.0)\n",
      "Requirement already satisfied: h5py in /usr/local/lib/python3.7/site-packages (from keras-applications>=1.0.8->tensorflow) (2.10.0)\n",
      "Requirement already satisfied: rsa<4.1,>=3.1.4 in /usr/local/lib/python3.7/site-packages (from google-auth<2,>=1.6.3->tensorboard<2.1.0,>=2.0.0->tensorflow) (4.0)\n",
      "Requirement already satisfied: cachetools<3.2,>=2.0.0 in /usr/local/lib/python3.7/site-packages (from google-auth<2,>=1.6.3->tensorboard<2.1.0,>=2.0.0->tensorflow) (3.1.1)\n",
      "Requirement already satisfied: pyasn1-modules>=0.2.1 in /usr/local/lib/python3.7/site-packages (from google-auth<2,>=1.6.3->tensorboard<2.1.0,>=2.0.0->tensorflow) (0.2.7)\n",
      "Requirement already satisfied: requests-oauthlib>=0.7.0 in /usr/local/lib/python3.7/site-packages (from google-auth-oauthlib<0.5,>=0.4.1->tensorboard<2.1.0,>=2.0.0->tensorflow) (1.3.0)\n",
      "Requirement already satisfied: idna<2.9,>=2.5 in /usr/local/lib/python3.7/site-packages (from requests<3,>=2.21.0->tensorboard<2.1.0,>=2.0.0->tensorflow) (2.8)\n",
      "Requirement already satisfied: urllib3!=1.25.0,!=1.25.1,<1.26,>=1.21.1 in /usr/local/lib/python3.7/site-packages (from requests<3,>=2.21.0->tensorboard<2.1.0,>=2.0.0->tensorflow) (1.25.7)\n",
      "Requirement already satisfied: chardet<3.1.0,>=3.0.2 in /usr/local/lib/python3.7/site-packages (from requests<3,>=2.21.0->tensorboard<2.1.0,>=2.0.0->tensorflow) (3.0.4)\n",
      "Requirement already satisfied: certifi>=2017.4.17 in /usr/local/lib/python3.7/site-packages (from requests<3,>=2.21.0->tensorboard<2.1.0,>=2.0.0->tensorflow) (2019.9.11)\n",
      "Requirement already satisfied: pyasn1>=0.1.3 in /usr/local/lib/python3.7/site-packages (from rsa<4.1,>=3.1.4->google-auth<2,>=1.6.3->tensorboard<2.1.0,>=2.0.0->tensorflow) (0.4.8)\n",
      "Requirement already satisfied: oauthlib>=3.0.0 in /usr/local/lib/python3.7/site-packages (from requests-oauthlib>=0.7.0->google-auth-oauthlib<0.5,>=0.4.1->tensorboard<2.1.0,>=2.0.0->tensorflow) (3.1.0)\n",
      "Requirement already satisfied: opencv-python in /usr/local/lib/python3.7/site-packages (4.0.0.21)\n",
      "Requirement already satisfied: numpy>=1.14.5 in /usr/local/lib/python3.7/site-packages (from opencv-python) (1.17.4)\n",
      "\u001b[31mERROR: Could not find a version that satisfies the requirement glob (from versions: none)\u001b[0m\n",
      "\u001b[31mERROR: No matching distribution found for glob\u001b[0m\n"
     ]
    }
   ],
   "source": [
    "!pip3 install youtube_dl\n",
    "!pip3 install beautifulsoup4\n",
    "!pip3 install requests\n",
    "!pip3 install numpy\n",
    "!pip3 install nudenet\n",
    "!pip3 install tensorflow\n",
    "!pip3 install opencv-python"
   ]
  },
  {
   "cell_type": "code",
   "execution_count": 8,
   "metadata": {},
   "outputs": [
    {
     "ename": "ModuleNotFoundError",
     "evalue": "No module named 'nudenet'",
     "output_type": "error",
     "traceback": [
      "\u001b[0;31m---------------------------------------------------------------------------\u001b[0m",
      "\u001b[0;31mModuleNotFoundError\u001b[0m                       Traceback (most recent call last)",
      "\u001b[0;32m<ipython-input-8-99e6d302340d>\u001b[0m in \u001b[0;36m<module>\u001b[0;34m\u001b[0m\n\u001b[1;32m      1\u001b[0m \u001b[0;32mfrom\u001b[0m \u001b[0m__future__\u001b[0m \u001b[0;32mimport\u001b[0m \u001b[0municode_literals\u001b[0m\u001b[0;34m\u001b[0m\u001b[0;34m\u001b[0m\u001b[0m\n\u001b[1;32m      2\u001b[0m \u001b[0;32mfrom\u001b[0m \u001b[0mbs4\u001b[0m \u001b[0;32mimport\u001b[0m \u001b[0mBeautifulSoup\u001b[0m \u001b[0;32mas\u001b[0m \u001b[0mbs\u001b[0m\u001b[0;34m\u001b[0m\u001b[0;34m\u001b[0m\u001b[0m\n\u001b[0;32m----> 3\u001b[0;31m \u001b[0;32mfrom\u001b[0m \u001b[0mnudenet\u001b[0m \u001b[0;32mimport\u001b[0m \u001b[0mNudeDetector\u001b[0m\u001b[0;34m\u001b[0m\u001b[0;34m\u001b[0m\u001b[0m\n\u001b[0m\u001b[1;32m      4\u001b[0m \u001b[0;34m\u001b[0m\u001b[0m\n\u001b[1;32m      5\u001b[0m \u001b[0;32mimport\u001b[0m \u001b[0myoutube_dl\u001b[0m\u001b[0;34m\u001b[0m\u001b[0;34m\u001b[0m\u001b[0m\n",
      "\u001b[0;31mModuleNotFoundError\u001b[0m: No module named 'nudenet'"
     ]
    }
   ],
   "source": [
    "from __future__ import unicode_literals\n",
    "from bs4 import BeautifulSoup as bs\n",
    "from nudenet import NudeDetector\n",
    "\n",
    "import youtube_dl\n",
    "import subprocess\n",
    "import math\n",
    "import shlex\n",
    "import requests\n",
    "import argparse\n",
    "import os\n",
    "import sys\n",
    "import subprocess\n",
    "import cv2  \n",
    "import json\n",
    "import tensorflow as tf\n",
    "import warnings\n",
    "import glob\n",
    "import uuid"
   ]
  },
  {
   "cell_type": "markdown",
   "metadata": {},
   "source": [
    "-------------------"
   ]
  },
  {
   "cell_type": "markdown",
   "metadata": {},
   "source": [
    "## 1. Download video"
   ]
  },
  {
   "cell_type": "code",
   "execution_count": 7,
   "metadata": {},
   "outputs": [
    {
     "name": "stdout",
     "output_type": "stream",
     "text": [
      "[youtube] XVNQSdAWVGo: Downloading webpage\n",
      "[youtube] XVNQSdAWVGo: Downloading video info webpage\n",
      "[download] XVNQSdAWVGo.mp4 has already been downloaded\n",
      "[download] 100% of 12.62MiB\n",
      "Done! Video downloaded.\n"
     ]
    }
   ],
   "source": [
    "ydl_opts = {\n",
    "    'format': 'best',       \n",
    "    'outtmpl': '%(id)s'+'.mp4'\n",
    "}\n",
    "\n",
    "with youtube_dl.YoutubeDL(ydl_opts) as ydl:\n",
    "    meta = ydl.extract_info('https://www.youtube.com/watch?v=XVNQSdAWVGo', download=True)\n",
    "    \n",
    "    print('Done! Video downloaded.')\n"
   ]
  },
  {
   "cell_type": "markdown",
   "metadata": {},
   "source": [
    "---------"
   ]
  },
  {
   "cell_type": "markdown",
   "metadata": {},
   "source": [
    "## 2. Metadata collection"
   ]
  },
  {
   "cell_type": "code",
   "execution_count": 8,
   "metadata": {},
   "outputs": [
    {
     "name": "stdout",
     "output_type": "stream",
     "text": [
      "\n",
      "\n",
      "~~~~~~~~~~~~~~~~~~~~~~~~~~~~~~~~~~~~~~~~~~~~~~~~~~~~~~~~~~~~~~~~~~~~~~~~~~~~~~~~~~~~~~\n",
      "~~~~~~~~~~~~~~~~~~~~~~~~~~~~~~~~~~~~Video Metadata~~~~~~~~~~~~~~~~~~~~~~~~~~~~~~~~~~~~\n",
      "~~~~~~~~~~~~~~~~~~~~~~~~~~~~~~~~~~~~~~~~~~~~~~~~~~~~~~~~~~~~~~~~~~~~~~~~~~~~~~~~~~~~~~\n",
      "~~~~~ Title       : Agüita e' Coco - Totoy El Frio x Beéle  [ Oficial Video ] 💦🥥\n",
      "~~~~~ Creator     : Tygger Music, Beele\n",
      "~~~~~ Upload date : 20191018\n",
      "~~~~~ Uploader    : Totoy El Frio\n",
      "~~~~~ Views       : 1299931\n",
      "~~~~~ Likes       : 22747\n",
      "~~~~~ Dislikes    : 515\n",
      "~~~~~ ID          : XVNQSdAWVGo\n",
      "~~~~~ Duration    : 207\n",
      "~~~~~ Av. Rating  : 4.9114437\n",
      "~~~~~~~~~~~~~~~~~~~~~~~~~~~~~~~~~~~~~~~~~~~~~~~~~~~~~~~~~~~~~~~~~~~~~~~~~~~~~~~~~~~~~~\n",
      "~~~~~~~~~~~~~~~~~~~~~~~~~~~~~~~~~~~~~~~~~~~~~~~~~~~~~~~~~~~~~~~~~~~~~~~~~~~~~~~~~~~~~~\n",
      "~~~~~~~~~~~~~~~~~~~~~~~~~~~~~~~~~~~~~~~~~~~~~~~~~~~~~~~~~~~~~~~~~~~~~~~~~~~~~~~~~~~~~~\n"
     ]
    }
   ],
   "source": [
    "youtube_id = meta['id']\n",
    "uploader = meta['uploader']\n",
    "uploader_id = meta['uploader_id']\n",
    "uploader_url = meta['uploader_url']\n",
    "channel_id = meta['channel_id']\n",
    "channel_url = meta['channel_url']\n",
    "upload_date = meta['upload_date']\n",
    "license = meta['license']\n",
    "creator = meta['creator']\n",
    "title = meta['title']\n",
    "alt_title = meta['alt_title']\n",
    "thumbnail = meta['thumbnail']\n",
    "description = meta['description']\n",
    "categories = meta['categories']\n",
    "tags = meta['tags']\n",
    "subtitles = meta['subtitles']\n",
    "automatic_captions = meta['automatic_captions']\n",
    "duration = meta['duration']\n",
    "age_limit = meta['age_limit']\n",
    "annotations = meta['annotations']\n",
    "chapters = meta['chapters']\n",
    "webpage_url = meta['webpage_url']\n",
    "view_count = meta['view_count']\n",
    "like_count = meta['like_count']\n",
    "dislike_count = meta['dislike_count']\n",
    "average_rating = meta['average_rating']\n",
    "\n",
    "print('')\n",
    "print('')\n",
    "print('~~~~~~~~~~~~~~~~~~~~~~~~~~~~~~~~~~~~~~~~~~~~~~~~~~~~~~~~~~~~~~~~~~~~~~~~~~~~~~~~~~~~~~')\n",
    "print('~~~~~~~~~~~~~~~~~~~~~~~~~~~~~~~~~~~~Video Metadata~~~~~~~~~~~~~~~~~~~~~~~~~~~~~~~~~~~~')\n",
    "print('~~~~~~~~~~~~~~~~~~~~~~~~~~~~~~~~~~~~~~~~~~~~~~~~~~~~~~~~~~~~~~~~~~~~~~~~~~~~~~~~~~~~~~')\n",
    "print('~~~~~ Title       : %s' %(title))\n",
    "print('~~~~~ Creator     : %s' %(creator))\n",
    "print('~~~~~ Upload date : %s' %(upload_date))\n",
    "print('~~~~~ Uploader    : %s' %(uploader))\n",
    "print('~~~~~ Views       : %d' %(view_count))\n",
    "print('~~~~~ Likes       : %d' %(like_count))\n",
    "print('~~~~~ Dislikes    : %d' %(dislike_count))\n",
    "print('~~~~~ ID          : %s' %(youtube_id))\n",
    "print('~~~~~ Duration    : %s' %(duration))\n",
    "print('~~~~~ Av. Rating  : %s' %(average_rating))\n",
    "print('~~~~~~~~~~~~~~~~~~~~~~~~~~~~~~~~~~~~~~~~~~~~~~~~~~~~~~~~~~~~~~~~~~~~~~~~~~~~~~~~~~~~~~')\n",
    "print('~~~~~~~~~~~~~~~~~~~~~~~~~~~~~~~~~~~~~~~~~~~~~~~~~~~~~~~~~~~~~~~~~~~~~~~~~~~~~~~~~~~~~~')\n",
    "print('~~~~~~~~~~~~~~~~~~~~~~~~~~~~~~~~~~~~~~~~~~~~~~~~~~~~~~~~~~~~~~~~~~~~~~~~~~~~~~~~~~~~~~')"
   ]
  },
  {
   "cell_type": "markdown",
   "metadata": {},
   "source": [
    "-------------"
   ]
  },
  {
   "cell_type": "markdown",
   "metadata": {},
   "source": [
    "## 3. Frame/Clip decomposition"
   ]
  },
  {
   "cell_type": "markdown",
   "metadata": {},
   "source": [
    "### 3.1 Clip decomposition"
   ]
  },
  {
   "cell_type": "code",
   "execution_count": 9,
   "metadata": {},
   "outputs": [],
   "source": [
    "def get_video_length(filename):\n",
    "    output = subprocess.check_output((\"ffprobe\", \"-v\", \"error\", \"-show_entries\", \"format=duration\", \"-of\",\n",
    "                                      \"default=noprint_wrappers=1:nokey=1\", filename)).strip()\n",
    "    video_length = int(float(output))\n",
    "    print(\"Video length in seconds: \" + str(video_length))\n",
    "\n",
    "    return video_length\n",
    "\n",
    "\n",
    "def ceildiv(a, b):\n",
    "    return int(math.ceil(a / float(b)))\n",
    "\n",
    "\n",
    "def split_by_seconds(filename, split_length, vcodec=\"copy\", acodec=\"copy\", extra=\"\", video_length=None, **kwargs):\n",
    "    if split_length and split_length <= 0:\n",
    "        print(\"Split length can't be 0\")\n",
    "        raise SystemExit\n",
    "\n",
    "    if not video_length:\n",
    "        video_length = get_video_length(filename)\n",
    "    split_count = ceildiv(video_length, split_length)\n",
    "    if split_count == 1:\n",
    "        print(\"Video length is less then the target split length.\")\n",
    "        raise SystemExit\n",
    "\n",
    "    split_cmd = [\"ffmpeg\", \"-i\", filename, \"-vcodec\", vcodec, \"-acodec\", acodec] + shlex.split(extra)\n",
    "    try:\n",
    "        filebase = \".\".join(filename.split(\".\")[:-1])\n",
    "        fileext = filename.split(\".\")[-1]\n",
    "    except IndexError as e:\n",
    "        raise IndexError(\"No . in filename. Error: \" + str(e))\n",
    "    for n in range(0, split_count):\n",
    "        split_args = []\n",
    "        if n == 0:\n",
    "            split_start = 0\n",
    "        else:\n",
    "            split_start = split_length * n\n",
    "\n",
    "        split_args += [\"-ss\", str(split_start), \"-t\", str(split_length),\n",
    "                       filebase + \"-\" + str(n + 1) + \"-of-\" + \\\n",
    "                       str(split_count) + \".\" + fileext]\n",
    "        print(\"Decomposing clip: \" + \" \".join(split_cmd + split_args))\n",
    "        subprocess.check_output(split_cmd + split_args)"
   ]
  },
  {
   "cell_type": "code",
   "execution_count": 10,
   "metadata": {},
   "outputs": [
    {
     "name": "stdout",
     "output_type": "stream",
     "text": [
      "Video length in seconds: 206\n",
      "Decomposing clip: ffmpeg -i XVNQSdAWVGo.mp4 -vcodec copy -acodec copy -ss 0 -t 15 XVNQSdAWVGo-1-of-14.mp4\n",
      "Decomposing clip: ffmpeg -i XVNQSdAWVGo.mp4 -vcodec copy -acodec copy -ss 15 -t 15 XVNQSdAWVGo-2-of-14.mp4\n",
      "Decomposing clip: ffmpeg -i XVNQSdAWVGo.mp4 -vcodec copy -acodec copy -ss 30 -t 15 XVNQSdAWVGo-3-of-14.mp4\n",
      "Decomposing clip: ffmpeg -i XVNQSdAWVGo.mp4 -vcodec copy -acodec copy -ss 45 -t 15 XVNQSdAWVGo-4-of-14.mp4\n",
      "Decomposing clip: ffmpeg -i XVNQSdAWVGo.mp4 -vcodec copy -acodec copy -ss 60 -t 15 XVNQSdAWVGo-5-of-14.mp4\n",
      "Decomposing clip: ffmpeg -i XVNQSdAWVGo.mp4 -vcodec copy -acodec copy -ss 75 -t 15 XVNQSdAWVGo-6-of-14.mp4\n",
      "Decomposing clip: ffmpeg -i XVNQSdAWVGo.mp4 -vcodec copy -acodec copy -ss 90 -t 15 XVNQSdAWVGo-7-of-14.mp4\n",
      "Decomposing clip: ffmpeg -i XVNQSdAWVGo.mp4 -vcodec copy -acodec copy -ss 105 -t 15 XVNQSdAWVGo-8-of-14.mp4\n",
      "Decomposing clip: ffmpeg -i XVNQSdAWVGo.mp4 -vcodec copy -acodec copy -ss 120 -t 15 XVNQSdAWVGo-9-of-14.mp4\n",
      "Decomposing clip: ffmpeg -i XVNQSdAWVGo.mp4 -vcodec copy -acodec copy -ss 135 -t 15 XVNQSdAWVGo-10-of-14.mp4\n",
      "Decomposing clip: ffmpeg -i XVNQSdAWVGo.mp4 -vcodec copy -acodec copy -ss 150 -t 15 XVNQSdAWVGo-11-of-14.mp4\n",
      "Decomposing clip: ffmpeg -i XVNQSdAWVGo.mp4 -vcodec copy -acodec copy -ss 165 -t 15 XVNQSdAWVGo-12-of-14.mp4\n",
      "Decomposing clip: ffmpeg -i XVNQSdAWVGo.mp4 -vcodec copy -acodec copy -ss 180 -t 15 XVNQSdAWVGo-13-of-14.mp4\n",
      "Decomposing clip: ffmpeg -i XVNQSdAWVGo.mp4 -vcodec copy -acodec copy -ss 195 -t 15 XVNQSdAWVGo-14-of-14.mp4\n"
     ]
    }
   ],
   "source": [
    "split_by_seconds('XVNQSdAWVGo.mp4', 15)"
   ]
  },
  {
   "cell_type": "markdown",
   "metadata": {},
   "source": [
    "### 3.2 Frame decomposition"
   ]
  },
  {
   "cell_type": "code",
   "execution_count": 1,
   "metadata": {},
   "outputs": [],
   "source": [
    "def duration(video):\n",
    "    command = 'ffprobe -v error -show_entries format=duration -of default=noprint_wrappers=1:nokey=1'\n",
    "    return float(subprocess.check_output(command.split(' ') + [video]).strip())"
   ]
  },
  {
   "cell_type": "code",
   "execution_count": 6,
   "metadata": {},
   "outputs": [
    {
     "data": {
      "text/plain": [
       "CompletedProcess(args=['ffmpeg', '-i', 'XVNQSdAWVGo.mp4', '-s', '1920x1200', '-ss', '3', '-r', '1/1', 'frames/XVNQSdAWVGo.mp4/frame%04d.jpg'], returncode=0)"
      ]
     },
     "execution_count": 6,
     "metadata": {},
     "output_type": "execute_result"
    }
   ],
   "source": [
    "video = \"XVNQSdAWVGo.mp4\"\n",
    "seconds = 1\n",
    "outformat = \"jpg\"\n",
    "size = \"1920x1200\"\n",
    "ffmpeg_args = []\n",
    "\n",
    "ffmpeg_args += ['-s', size]\n",
    "\n",
    "output_dir = os.path.join('frames')\n",
    "os.makedirs(output_dir, exist_ok=True)\n",
    "\n",
    "args = [i for i in ffmpeg_args]\n",
    "\n",
    "basename = os.path.basename(video)\n",
    "output = os.path.join(output_dir, basename)\n",
    "os.makedirs(output, exist_ok=True)\n",
    "output = os.path.join(output, f'frame%04d.{outformat}')\n",
    "\n",
    "s = seconds\n",
    "args += ['-ss', '3', '-r', f'1/{s}']\n",
    "\n",
    "subprocess.run(['ffmpeg', '-i', f'{video}'] + args + [output])"
   ]
  },
  {
   "cell_type": "markdown",
   "metadata": {},
   "source": [
    "-----"
   ]
  },
  {
   "cell_type": "markdown",
   "metadata": {},
   "source": [
    "## 4. NudeNet"
   ]
  },
  {
   "cell_type": "code",
   "execution_count": null,
   "metadata": {},
   "outputs": [],
   "source": [
    "os.environ['TF_CPP_MIN_LOG_LEVEL'] = '3'\n",
    "warnings.filterwarnings(\"ignore\")\n",
    "tf.compat.v1.logging.set_verbosity(tf.compat.v1.logging.ERROR)\n",
    "\n",
    "\n",
    "frames = glob.glob(\"frames/XVNQSdAWVGo.mp4/*.jpg\")\n",
    "detector = NudeDetector('models/detector_model')\n",
    "output_dir = os.path.join('detected')\n",
    "os.makedirs(output_dir, exist_ok=True)\n",
    "    \n",
    "\n",
    "for frame in frames:\n",
    "    img_path = frame\n",
    "    result = detector.detect(img_path, min_prob=0.48)\n",
    "    cv_image = cv2.imread(img_path)\n",
    "    print(\"\")\n",
    "    print(\"\")\n",
    "    print(\"--------------------------------------------\")\n",
    "    for item in result:\n",
    "        left = item['box'][0]\n",
    "        top = item['box'][1]\n",
    "\n",
    "        right = item['box'][2]\n",
    "        bottom = item['box'][3]\n",
    "\n",
    "        label = item['label']\n",
    "        print(\">>>>>>> I have detected: \"+label)\n",
    "\n",
    "        cv2.rectangle(cv_image, (left,top), (right,bottom), (0,0,255), 2)\n",
    "        cv2.putText(cv_image, item['label'], (left,top), cv2.FONT_HERSHEY_SIMPLEX, 1, (255, 255, 255), 2, cv2.LINE_AA)\n",
    "\n",
    "    print(\"\")\n",
    "    print(\"\")\n",
    "    \n",
    "    cv2.imwrite(output_dir+uuid.uuid1()+'.jpg',cv_image)"
   ]
  }
 ],
 "metadata": {
  "kernelspec": {
   "display_name": "Python 3",
   "language": "python",
   "name": "python3"
  },
  "language_info": {
   "codemirror_mode": {
    "name": "ipython",
    "version": 3
   },
   "file_extension": ".py",
   "mimetype": "text/x-python",
   "name": "python",
   "nbconvert_exporter": "python",
   "pygments_lexer": "ipython3",
   "version": "3.7.5"
  }
 },
 "nbformat": 4,
 "nbformat_minor": 4
}
